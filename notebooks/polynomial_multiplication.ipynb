{
 "cells": [
  {
   "cell_type": "code",
   "execution_count": 1,
   "metadata": {
    "collapsed": true
   },
   "outputs": [],
   "source": [
    "%matplotlib inline\n",
    "import matplotlib.pyplot as plt\n",
    "import math\n",
    "import numpy as np\n",
    "import time\n",
    "np.set_printoptions(precision=3)\n",
    "np.set_printoptions(suppress=True)\n",
    "plt.style.use(\"ggplot\")\n",
    "plt.rcParams[\"font.size\"] = 13"
   ]
  },
  {
   "cell_type": "markdown",
   "metadata": {},
   "source": [
    "## Horner法で多項式の値を求める\n",
    "\n",
    "`coefs`: `[0次の係数, 1次の係数, ..., 最高次の係数]`"
   ]
  },
  {
   "cell_type": "code",
   "execution_count": 2,
   "metadata": {
    "collapsed": true
   },
   "outputs": [],
   "source": [
    "def get_poly_value(coefs, x):\n",
    "    value = 0.0\n",
    "    size = len(coefs)\n",
    "    for i in range(size):\n",
    "        if i == 0:\n",
    "            value += coefs[size-i-1]\n",
    "        else:\n",
    "            value = value * x + coefs[size-i-1]\n",
    "            \n",
    "    return value"
   ]
  },
  {
   "cell_type": "code",
   "execution_count": 3,
   "metadata": {},
   "outputs": [
    {
     "data": {
      "text/plain": [
       "0.0"
      ]
     },
     "execution_count": 3,
     "metadata": {},
     "output_type": "execute_result"
    }
   ],
   "source": [
    "get_poly_value([2, 5, 3], -1)"
   ]
  },
  {
   "cell_type": "markdown",
   "metadata": {},
   "source": [
    "## 素直な解法"
   ]
  },
  {
   "cell_type": "code",
   "execution_count": 4,
   "metadata": {
    "collapsed": true
   },
   "outputs": [],
   "source": [
    "def get_poly_product(f_coefs, g_coefs):\n",
    "    \"\"\"\n",
    "    Parameters:\n",
    "        f_coefs: array_like. fの係数のリスト. [0次の係数, 1次の係数, ..., 最高次の係数]\n",
    "        g_coefs: array_like. gの係数のリスト. [0次の係数, 1次の係数, ..., 最高次の係数]\n",
    "    Returns:\n",
    "        h_coefs: ndarray. h=fgの係数のリスト. [0次の係数, 1次の係数, ..., 最高次の係数]\n",
    "    \"\"\"\n",
    "    f_size, g_size = len(f_coefs), len(g_coefs)\n",
    "    h_coefs = np.zeros([f_size+g_size-1], dtype=float)\n",
    "    \n",
    "    for i in range(f_size):\n",
    "        for j in range(g_size):\n",
    "            h_coefs[i+j] += f_coefs[i] * g_coefs[j]\n",
    "            \n",
    "    return h_coefs"
   ]
  },
  {
   "cell_type": "code",
   "execution_count": 5,
   "metadata": {},
   "outputs": [
    {
     "data": {
      "text/plain": [
       "array([12., 17., 10.,  3.])"
      ]
     },
     "execution_count": 5,
     "metadata": {},
     "output_type": "execute_result"
    }
   ],
   "source": [
    "get_poly_product([3, 2, 1], [4, 3])"
   ]
  },
  {
   "cell_type": "markdown",
   "metadata": {},
   "source": [
    "## FFTを使った解法"
   ]
  },
  {
   "cell_type": "markdown",
   "metadata": {},
   "source": [
    "### FFTにライブラリを使用"
   ]
  },
  {
   "cell_type": "code",
   "execution_count": 6,
   "metadata": {
    "collapsed": true
   },
   "outputs": [],
   "source": [
    "def get_poly_product_fft(f_coefs, g_coefs):\n",
    "    \"\"\"\n",
    "    Parameters:\n",
    "        f_coefs: array_like. fの係数のリスト. [0次の係数, 1次の係数, ..., 最高次の係数]\n",
    "        g_coefs: array_like. gの係数のリスト. [0次の係数, 1次の係数, ..., 最高次の係数]\n",
    "    Returns:\n",
    "        h_coefs: ndarray. h=fgの係数のリスト. [0次の係数, 1次の係数, ..., 最高次の係数]\n",
    "    \"\"\"\n",
    "    h_size = len(f_coefs) + len(g_coefs) - 1\n",
    "    h_fft_coefs = np.fft.fft(f_coefs, n=h_size) * np.fft.fft(g_coefs, n=h_size)\n",
    "    h_coefs = np.fft.ifft(h_fft_coefs)\n",
    "    \n",
    "    return np.real(h_coefs)\n"
   ]
  },
  {
   "cell_type": "code",
   "execution_count": 7,
   "metadata": {
    "scrolled": true
   },
   "outputs": [
    {
     "data": {
      "text/plain": [
       "array([12., 17., 10.,  3.])"
      ]
     },
     "execution_count": 7,
     "metadata": {},
     "output_type": "execute_result"
    }
   ],
   "source": [
    "get_poly_product_fft([3, 2, 1], [4, 3])"
   ]
  },
  {
   "cell_type": "markdown",
   "metadata": {},
   "source": [
    "## 速度比較\n",
    "\n",
    "$n = 2, 4, 8, \\ldots, 2^{15}$次多項式同士の積を計算する. "
   ]
  },
  {
   "cell_type": "code",
   "execution_count": 8,
   "metadata": {
    "collapsed": true
   },
   "outputs": [],
   "source": [
    "def get_mean_time(func, *array):\n",
    "    time_list = np.zeros([len(array[0])])\n",
    "    for i, a in enumerate(zip(*array)):\n",
    "        start_time = time.time()\n",
    "        func(*a)\n",
    "        time_list[i] = time.time() - start_time\n",
    "        \n",
    "    # remove slowest/fastest time\n",
    "    time_list.sort()\n",
    "    \n",
    "    return np.mean(time_list[1:-1])\n"
   ]
  },
  {
   "cell_type": "code",
   "execution_count": 9,
   "metadata": {
    "scrolled": true
   },
   "outputs": [
    {
     "name": "stdout",
     "output_type": "stream",
     "text": [
      "Current n = 2\n",
      "Current n = 4\n",
      "Current n = 8\n",
      "Current n = 16\n",
      "Current n = 32\n",
      "Current n = 64\n",
      "Current n = 128\n",
      "Current n = 256\n",
      "Current n = 512\n",
      "Current n = 1024\n",
      "Current n = 2048\n",
      "Current n = 4096\n",
      "Current n = 8192\n",
      "Current n = 16384\n",
      "Current n = 32768\n"
     ]
    }
   ],
   "source": [
    "n_list = [2 ** i for i in range(1, 15+1)]\n",
    "sample_size = 20\n",
    "random_state = np.random.RandomState(2018)\n",
    "\n",
    "n_size = len(n_list)\n",
    "simple_mean_time, fft_mean_time = [], []\n",
    "\n",
    "for i, n in enumerate(n_list):\n",
    "    print(\"Current n = {}\".format(n))\n",
    "    sample_f_coefs = random_state.randint(low=-100, high=100, size=(sample_size, n))\n",
    "    sample_g_coefs = random_state.randint(low=-100, high=100, size=(sample_size, n))\n",
    "    \n",
    "    # simple\n",
    "    if n < 3000:\n",
    "        t = get_mean_time(get_poly_product, sample_f_coefs, sample_g_coefs)\n",
    "        simple_mean_time.append(t)\n",
    "    \n",
    "    # FFT\n",
    "    t = get_mean_time(get_poly_product_fft, sample_f_coefs, sample_g_coefs)\n",
    "    fft_mean_time.append(t)\n"
   ]
  },
  {
   "cell_type": "code",
   "execution_count": 10,
   "metadata": {},
   "outputs": [
    {
     "data": {
      "image/png": "[encoded data removed]",
      "text/plain": [
       "<matplotlib.figure.Figure at 0x110e63c50>"
      ]
     },
     "metadata": {},
     "output_type": "display_data"
    }
   ],
   "source": [
    "fig = plt.figure(figsize=(16, 9))\n",
    "plt.plot(n_list[:len(simple_mean_time)], simple_mean_time, color=\"red\", label=\"Simple method\")\n",
    "plt.plot(n_list, fft_mean_time, color=\"blue\", label=\"FFT method\")\n",
    "plt.xscale(\"log\", basex=2)\n",
    "plt.title(\"Time comparison: simple method vs interpolation + FFT\")\n",
    "plt.xlabel(r\"Size of $n$\")\n",
    "plt.ylabel(\"Average elapsed time (sec, sample: {:d})\".format(sample_size))\n",
    "plt.legend()\n",
    "plt.show()"
   ]
  },
  {
   "cell_type": "code",
   "execution_count": null,
   "metadata": {
    "collapsed": true
   },
   "outputs": [],
   "source": []
  }
 ],
 "metadata": {
  "kernelspec": {
   "display_name": "Python 3",
   "language": "python",
   "name": "python3"
  },
  "language_info": {
   "codemirror_mode": {
    "name": "ipython",
    "version": 3
   },
   "file_extension": ".py",
   "mimetype": "text/x-python",
   "name": "python",
   "nbconvert_exporter": "python",
   "pygments_lexer": "ipython3",
   "version": "3.6.3"
  }
 },
 "nbformat": 4,
 "nbformat_minor": 2
}
